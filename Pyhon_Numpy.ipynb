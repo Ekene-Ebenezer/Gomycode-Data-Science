{
  "nbformat": 4,
  "nbformat_minor": 0,
  "metadata": {
    "colab": {
      "provenance": [],
      "authorship_tag": "ABX9TyNE5JAFoSBv2iNqOet8rqoG",
      "include_colab_link": true
    },
    "kernelspec": {
      "name": "python3",
      "display_name": "Python 3"
    },
    "language_info": {
      "name": "python"
    }
  },
  "cells": [
    {
      "cell_type": "markdown",
      "metadata": {
        "id": "view-in-github",
        "colab_type": "text"
      },
      "source": [
        "<a href=\"https://colab.research.google.com/github/Ekene-Ebenezer/Gomycode-Data-Science/blob/main/Pyhon_Numpy.ipynb\" target=\"_parent\"><img src=\"https://colab.research.google.com/assets/colab-badge.svg\" alt=\"Open In Colab\"/></a>"
      ]
    },
    {
      "cell_type": "code",
      "execution_count": 1,
      "metadata": {
        "colab": {
          "base_uri": "https://localhost:8080/"
        },
        "id": "TjyxPB89E5Ve",
        "outputId": "b06d9689-0afd-4561-dd89-f1fc5f4811bd"
      },
      "outputs": [
        {
          "output_type": "stream",
          "name": "stdout",
          "text": [
            "Writing grades_analysis.py\n"
          ]
        }
      ],
      "source": [
        "# Create a new file called \"grades_analysis.py\"\n",
        "%%writefile grades_analysis.py\n",
        "\n",
        "import numpy as np\n",
        "\n",
        "# Create the \"grades\" array\n",
        "grades = np.array([87, 92, 76, 81, 95, 68, 82, 98, 75, 89])\n",
        "\n",
        "# Calculate the mean, median, and standard deviation of the grades\n",
        "mean = np.mean(grades)\n",
        "median = np.median(grades)\n",
        "std_dev = np.std(grades)\n",
        "\n",
        "# Find the maximum and minimum of the grades\n",
        "max_grade = np.max(grades)\n",
        "min_grade = np.min(grades)\n",
        "\n",
        "# Sort the grades in ascending order\n",
        "sorted_grades = np.sort(grades)\n",
        "\n",
        "# Find the index of the highest grade in the array\n",
        "highest_grade_index = np.argmax(grades)\n",
        "\n",
        "# Print the results\n",
        "print(\"Mean:\", mean)\n",
        "print(\"Median:\", median)\n",
        "print(\"Standard deviation:\", std_dev)\n",
        "print(\"Maximum grade:\", max_grade)\n",
        "print(\"Minimum grade:\", min_grade)\n",
        "print(\"Sorted grades:\", sorted_grades)\n",
        "print(\"Index of highest grade:\", highest_grade_index)"
      ]
    }
  ]
}