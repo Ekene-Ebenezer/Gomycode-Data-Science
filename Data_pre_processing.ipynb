{
  "nbformat": 4,
  "nbformat_minor": 0,
  "metadata": {
    "colab": {
      "provenance": [],
      "authorship_tag": "ABX9TyN04n6JYFldssv1v/OkwifQ",
      "include_colab_link": true
    },
    "kernelspec": {
      "name": "python3",
      "display_name": "Python 3"
    },
    "language_info": {
      "name": "python"
    }
  },
  "cells": [
    {
      "cell_type": "markdown",
      "metadata": {
        "id": "view-in-github",
        "colab_type": "text"
      },
      "source": [
        "<a href=\"https://colab.research.google.com/github/Ekene-Ebenezer/Gomycode-Data-Science/blob/main/Data_pre_processing.ipynb\" target=\"_parent\"><img src=\"https://colab.research.google.com/assets/colab-badge.svg\" alt=\"Open In Colab\"/></a>"
      ]
    },
    {
      "cell_type": "code",
      "source": [
        "import pandas as pd\n",
        "\n",
        "# Load the dataset\n",
        "dataset = pd.read_csv('/content/STEG_BILLING_HISTORY (1).csv')\n",
        "\n",
        "# Display the first ten lines and store in 'client_0_bills'\n",
        "client_0_bills = dataset.head(10)\n",
        "\n",
        "# Check the data type of 'client_0_bills'\n",
        "print(\"Data type of 'client_5_bills':\", type(client_0_bills))\n",
        "\n",
        "# Display general information of the dataset\n",
        "print(\"\\nGeneral information of the dataset:\")\n",
        "print(dataset.info())\n",
        "\n",
        "# Number of rows and columns\n",
        "num_rows, num_cols = dataset.shape\n",
        "print(\"\\nNumber of rows:\", num_rows)\n",
        "print(\"Number of columns:\", num_cols)\n",
        "\n",
        "# Number of categorical features\n",
        "num_categorical = len(dataset.select_dtypes(include='object').columns)\n",
        "print(\"\\nNumber of categorical features:\", num_categorical)\n",
        "\n",
        "# Memory usage of the dataset\n",
        "print(\"\\nMemory usage of the dataset:\")\n",
        "print(dataset.memory_usage().sum() / (1024 * 1024), \"MB\")\n",
        "\n",
        "# Check for missing values\n",
        "print(\"\\nMissing values in the dataset:\")\n",
        "print(dataset.isnull().sum())\n",
        "\n",
        "# Strategy to handle missing values\n",
        "# Depending on the percentage of missing values and the nature of data, common strategies include:\n",
        "# 1. Dropping rows/columns with missing values\n",
        "# 2. Imputing missing values with mean, median, or mode\n",
        "# 3. Using advanced techniques like interpolation or machine learning-based imputation\n",
        "# The choice depends on the specific requirements of the analysis and the characteristics of the dataset.\n",
        "\n",
        "# Descriptive analysis on numeric features"
      ],
      "metadata": {
        "id": "b99cgjsRXiAg",
        "colab": {
          "base_uri": "https://localhost:8080/"
        },
        "outputId": "eb0e63bf-d994-4a84-eb0c-2cab20715be3"
      },
      "execution_count": 11,
      "outputs": [
        {
          "output_type": "stream",
          "name": "stderr",
          "text": [
            "<ipython-input-11-6fa3565e08c0>:4: DtypeWarning: Columns (4) have mixed types. Specify dtype option on import or set low_memory=False.\n",
            "  dataset = pd.read_csv('/content/STEG_BILLING_HISTORY (1).csv')\n"
          ]
        },
        {
          "output_type": "stream",
          "name": "stdout",
          "text": [
            "Data type of 'client_5_bills': <class 'pandas.core.frame.DataFrame'>\n",
            "\n",
            "General information of the dataset:\n",
            "<class 'pandas.core.frame.DataFrame'>\n",
            "RangeIndex: 3619168 entries, 0 to 3619167\n",
            "Data columns (total 16 columns):\n",
            " #   Column                Dtype  \n",
            "---  ------                -----  \n",
            " 0   client_id             object \n",
            " 1   invoice_date          object \n",
            " 2   tarif_type            int64  \n",
            " 3   counter_number        float64\n",
            " 4   counter_statue        object \n",
            " 5   counter_code          float64\n",
            " 6   reading_remarque      float64\n",
            " 7   counter_coefficient   float64\n",
            " 8   consommation_level_1  float64\n",
            " 9   consommation_level_2  float64\n",
            " 10  consommation_level_3  float64\n",
            " 11  consommation_level_4  float64\n",
            " 12  old_index             float64\n",
            " 13  new_index             float64\n",
            " 14  months_number         float64\n",
            " 15  counter_type          object \n",
            "dtypes: float64(11), int64(1), object(4)\n",
            "memory usage: 441.8+ MB\n",
            "None\n",
            "\n",
            "Number of rows: 3619168\n",
            "Number of columns: 16\n",
            "\n",
            "Number of categorical features: 4\n",
            "\n",
            "Memory usage of the dataset:\n",
            "441.7930908203125 MB\n",
            "\n",
            "Missing values in the dataset:\n",
            "client_id                  0\n",
            "invoice_date               0\n",
            "tarif_type                 0\n",
            "counter_number            37\n",
            "counter_statue             1\n",
            "counter_code               1\n",
            "reading_remarque        3614\n",
            "counter_coefficient        1\n",
            "consommation_level_1       1\n",
            "consommation_level_2       1\n",
            "consommation_level_3       1\n",
            "consommation_level_4       1\n",
            "old_index                  1\n",
            "new_index                  1\n",
            "months_number              1\n",
            "counter_type               1\n",
            "dtype: int64\n"
          ]
        }
      ]
    }
  ]
}