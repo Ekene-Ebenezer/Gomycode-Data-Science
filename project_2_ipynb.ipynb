{
  "nbformat": 4,
  "nbformat_minor": 0,
  "metadata": {
    "colab": {
      "provenance": [],
      "authorship_tag": "ABX9TyPJXEBlt4QvLlJONUVDuD1/",
      "include_colab_link": true
    },
    "kernelspec": {
      "name": "python3",
      "display_name": "Python 3"
    },
    "language_info": {
      "name": "python"
    }
  },
  "cells": [
    {
      "cell_type": "markdown",
      "metadata": {
        "id": "view-in-github",
        "colab_type": "text"
      },
      "source": [
        "<a href=\"https://colab.research.google.com/github/Ekene-Ebenezer/Gomycode-Data-Science/blob/main/project_2_ipynb.ipynb\" target=\"_parent\"><img src=\"https://colab.research.google.com/assets/colab-badge.svg\" alt=\"Open In Colab\"/></a>"
      ]
    },
    {
      "cell_type": "code",
      "execution_count": null,
      "metadata": {
        "id": "pTC_pAnpIlUK"
      },
      "outputs": [],
      "source": [
        "shopping_list = [\"iphones\",\"ipad\",\"iwatch\"]\n",
        "\n",
        "for i in shopping_list:\n",
        "   print(i)\n",
        "\n",
        "   item = input(\"Enter the item you like to add to the shopping list: \")\n",
        "\n",
        "   shopping_list.append(item)\n",
        "\n",
        "   print(shopping_list)\n",
        "\n",
        "   item = input(\"Enter the item you would like to remove from the shopping_list:\")\n",
        "\n",
        "   shopping_list.remove(items)\n",
        "\n",
        "   print(shopping_list)"
      ]
    }
  ]
}