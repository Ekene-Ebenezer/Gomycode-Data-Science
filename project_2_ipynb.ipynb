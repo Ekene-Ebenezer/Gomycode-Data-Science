{
  "nbformat": 4,
  "nbformat_minor": 0,
  "metadata": {
    "colab": {
      "provenance": [],
      "authorship_tag": "ABX9TyNSryv0XwYYlxJ75dCTpTtW",
      "include_colab_link": true
    },
    "kernelspec": {
      "name": "python3",
      "display_name": "Python 3"
    },
    "language_info": {
      "name": "python"
    }
  },
  "cells": [
    {
      "cell_type": "markdown",
      "metadata": {
        "id": "view-in-github",
        "colab_type": "text"
      },
      "source": [
        "<a href=\"https://colab.research.google.com/github/Ekene-Ebenezer/Gomycode-Data-Science/blob/main/project_2_ipynb.ipynb\" target=\"_parent\"><img src=\"https://colab.research.google.com/assets/colab-badge.svg\" alt=\"Open In Colab\"/></a>"
      ]
    },
    {
      "cell_type": "code",
      "execution_count": 5,
      "metadata": {
        "colab": {
          "base_uri": "https://localhost:8080/"
        },
        "id": "pTC_pAnpIlUK",
        "outputId": "ef88d5a6-1685-43a5-f080-6750a78f7cbe"
      },
      "outputs": [
        {
          "output_type": "stream",
          "name": "stdout",
          "text": [
            "iphones\n",
            "ipad\n",
            "iwatch\n"
          ]
        }
      ],
      "source": [
        "shopping_list = [\"iphones\",\"ipad\",\"iwatch\"]\n",
        "\n",
        "for i in shopping_list:\n",
        "   print(i)"
      ]
    }
  ]
}