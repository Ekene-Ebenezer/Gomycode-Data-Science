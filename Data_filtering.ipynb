{
  "nbformat": 4,
  "nbformat_minor": 0,
  "metadata": {
    "colab": {
      "provenance": [],
      "authorship_tag": "ABX9TyMH0UWQb5dySXUyeCiUYRVT",
      "include_colab_link": true
    },
    "kernelspec": {
      "name": "python3",
      "display_name": "Python 3"
    },
    "language_info": {
      "name": "python"
    }
  },
  "cells": [
    {
      "cell_type": "markdown",
      "metadata": {
        "id": "view-in-github",
        "colab_type": "text"
      },
      "source": [
        "<a href=\"https://colab.research.google.com/github/Ekene-Ebenezer/Gomycode-Data-Science/blob/main/Data_filtering.ipynb\" target=\"_parent\"><img src=\"https://colab.research.google.com/assets/colab-badge.svg\" alt=\"Open In Colab\"/></a>"
      ]
    },
    {
      "cell_type": "code",
      "source": [
        "import pandas as pd\n",
        "\n",
        "data = {'Name': ['John', 'Mary', 'Bob', 'Sarah', 'Tom', 'Lisa'],\n",
        "        'Department': ['IT', 'Marketing', 'Sales', 'IT', 'Finance', 'Marketing'],\n",
        "        'Age': [30, 40, 25, 35, 45, 28],\n",
        "        'Gender': ['Male', 'Female', 'Male', 'Female', 'Male', 'Female'],\n",
        "        'Salary': [50000, 60000, 45000, 55000, 70000, 55000],\n",
        "        'Experience': [3, 7, 2, 5, 10, 4]}\n",
        "\n",
        "employee_df = pd.DataFrame(data)\n",
        "\n",
        "# Use iloc to select the first 3 rows\n",
        "first_3_rows = employee_df.iloc[:3]\n",
        "print(\"First 3 rows using iloc:\")\n",
        "print(first_3_rows)\n",
        "\n",
        "# Use loc to select all rows where the Department is \"Marketing\"\n",
        "marketing_rows = employee_df.loc[employee_df['Department'] == 'Marketing']\n",
        "print(\"\\nRows where Department is 'Marketing' using loc:\")\n",
        "print(marketing_rows)\n",
        "\n",
        "# Use iloc to select the Age and Gender columns for the first 4 rows\n",
        "age_gender_first_4_rows = employee_df.iloc[:4, [2, 3]]\n",
        "print(\"\\nAge and Gender columns for the first 4 rows using iloc:\")\n",
        "print(age_gender_first_4_rows)\n",
        "\n",
        "# Use loc to select the Salary and Experience columns for all rows where Gender is \"Male\"\n",
        "salary_experience_male_rows = employee_df.loc[employee_df['Gender'] == 'Male', ['Salary', 'Experience']]\n",
        "print(\"\\nSalary and Experience columns for rows where Gender is 'Male' using loc:\")\n",
        "print(salary_experience_male_rows)\n"
      ],
      "metadata": {
        "colab": {
          "base_uri": "https://localhost:8080/"
        },
        "id": "6Gfy72At8Uvf",
        "outputId": "e2ef54f3-ecfc-45d8-9e9b-3f7cd86fd933"
      },
      "execution_count": 1,
      "outputs": [
        {
          "output_type": "stream",
          "name": "stdout",
          "text": [
            "First 3 rows using iloc:\n",
            "   Name Department  Age  Gender  Salary  Experience\n",
            "0  John         IT   30    Male   50000           3\n",
            "1  Mary  Marketing   40  Female   60000           7\n",
            "2   Bob      Sales   25    Male   45000           2\n",
            "\n",
            "Rows where Department is 'Marketing' using loc:\n",
            "   Name Department  Age  Gender  Salary  Experience\n",
            "1  Mary  Marketing   40  Female   60000           7\n",
            "5  Lisa  Marketing   28  Female   55000           4\n",
            "\n",
            "Age and Gender columns for the first 4 rows using iloc:\n",
            "   Age  Gender\n",
            "0   30    Male\n",
            "1   40  Female\n",
            "2   25    Male\n",
            "3   35  Female\n",
            "\n",
            "Salary and Experience columns for rows where Gender is 'Male' using loc:\n",
            "   Salary  Experience\n",
            "0   50000           3\n",
            "2   45000           2\n",
            "4   70000          10\n"
          ]
        }
      ]
    }
  ]
}