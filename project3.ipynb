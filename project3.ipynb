{
  "nbformat": 4,
  "nbformat_minor": 0,
  "metadata": {
    "colab": {
      "provenance": [],
      "authorship_tag": "ABX9TyNA9Me8sFLBtA7tprLBqn81",
      "include_colab_link": true
    },
    "kernelspec": {
      "name": "python3",
      "display_name": "Python 3"
    },
    "language_info": {
      "name": "python"
    }
  },
  "cells": [
    {
      "cell_type": "markdown",
      "metadata": {
        "id": "view-in-github",
        "colab_type": "text"
      },
      "source": [
        "<a href=\"https://colab.research.google.com/github/Ekene-Ebenezer/Gomycode-Data-Science/blob/main/project3.ipynb\" target=\"_parent\"><img src=\"https://colab.research.google.com/assets/colab-badge.svg\" alt=\"Open In Colab\"/></a>"
      ]
    },
    {
      "cell_type": "code",
      "execution_count": 1,
      "metadata": {
        "id": "jhYwjAK4ZLI0"
      },
      "outputs": [],
      "source": [
        "def add(x, y):\n",
        "    return x + y\n",
        "\n",
        "def subtract(x, y):\n",
        "    return x - y\n",
        "\n",
        "def multiply(x, y):\n",
        "    return x * y\n",
        "\n",
        "def divide(x, y):\n",
        "    if y != 0:\n",
        "        return x / y\n",
        "    else:\n",
        "        return \"Error: Division by zero\"\n",
        "\n",
        "operations = {\n",
        "    '+': add,\n",
        "    '-': subtract,\n",
        "    '*': multiply,\n",
        "    '/': divide}\n",
        "def calculator ():\n",
        "  num1 = float(input(\"Enter the first number: \"))\n",
        "\n",
        "  for symbol in operations.keys():\n",
        "      print(symbol, end=' ')\n",
        "\n",
        "  should_continue = True\n",
        "  while should_continue:\n",
        "      operation_symbol = input(\"\\nChoose an operation symbol: \")\n",
        "      num2 = float(input(\"Enter the second number: \"))\n",
        "\n",
        "      calculation_function = operations.get(operation_symbol)\n",
        "      if calculation_function:\n",
        "          answer = calculation_function(num1, num2)\n",
        "          print(f\"{num1} {operation_symbol} {num2} = {answer}\")\n",
        "\n",
        "\n",
        "\n",
        "\n"
      ]
    }
  ]
}