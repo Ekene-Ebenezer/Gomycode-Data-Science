{
  "nbformat": 4,
  "nbformat_minor": 0,
  "metadata": {
    "colab": {
      "provenance": [],
      "authorship_tag": "ABX9TyNJT9zu4rEJoEZWThcbjK+E",
      "include_colab_link": true
    },
    "kernelspec": {
      "name": "python3",
      "display_name": "Python 3"
    },
    "language_info": {
      "name": "python"
    }
  },
  "cells": [
    {
      "cell_type": "markdown",
      "metadata": {
        "id": "view-in-github",
        "colab_type": "text"
      },
      "source": [
        "<a href=\"https://colab.research.google.com/github/Ekene-Ebenezer/Gomycode-Data-Science/blob/main/project4.ipynb\" target=\"_parent\"><img src=\"https://colab.research.google.com/assets/colab-badge.svg\" alt=\"Open In Colab\"/></a>"
      ]
    },
    {
      "cell_type": "markdown",
      "source": [],
      "metadata": {
        "id": "2pv1KzT7FY2s"
      }
    },
    {
      "cell_type": "code",
      "source": [
        "class Account:\n",
        "    def __init__(self, initial_balance=0):\n",
        "        self.balance = initial_balance#\n",
        "\n",
        "    def deposit(self, amount):\n",
        "      self.balance += amount\n",
        "\n",
        "    def withdraw(self, amount):\n",
        "        if self.balance >= amount:\n",
        "            self.balance -= amount\n",
        "            print(f\"Withdrawal of {amount} successful.\")\n",
        "        else:\n",
        "            print(\"Insufficient funds. Withdrawal failed.\")\n",
        "    def check_balance(self):\n",
        "        return self.balance\n",
        "\n",
        "# Create an instance of the Account class\n",
        "my_account = Account()\n",
        "print (\"Deposit and withdraw money,and check the balance\")\n",
        "my_account.deposit(1000000)\n",
        "print(f\"Current balance: {my_account.check_balance()}\")\n",
        "\n",
        "my_account.withdraw(500)\n",
        "print(f\"Current balance: {my_account.check_balance()}\")\n",
        "\n"
      ],
      "metadata": {
        "colab": {
          "base_uri": "https://localhost:8080/"
        },
        "id": "x7kbzs6PFZrJ",
        "outputId": "7a97f1d6-357d-4606-e26c-ce5643e8ec11"
      },
      "execution_count": 32,
      "outputs": [
        {
          "output_type": "stream",
          "name": "stdout",
          "text": [
            "Deposit and withdraw money,and check the balance\n",
            "Current balance: 1000000\n",
            "Withdrawal of 500 successful.\n",
            "Current balance: 999500\n"
          ]
        }
      ]
    }
  ]
}