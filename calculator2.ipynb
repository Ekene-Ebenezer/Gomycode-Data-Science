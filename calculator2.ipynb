{
  "nbformat": 4,
  "nbformat_minor": 0,
  "metadata": {
    "colab": {
      "provenance": [],
      "authorship_tag": "ABX9TyNJNzOYGwQh7AmVWPvWEIj0",
      "include_colab_link": true
    },
    "kernelspec": {
      "name": "python3",
      "display_name": "Python 3"
    },
    "language_info": {
      "name": "python"
    }
  },
  "cells": [
    {
      "cell_type": "markdown",
      "metadata": {
        "id": "view-in-github",
        "colab_type": "text"
      },
      "source": [
        "<a href=\"https://colab.research.google.com/github/Ekene-Ebenezer/Gomycode-Data-Science/blob/main/calculator2.ipynb\" target=\"_parent\"><img src=\"https://colab.research.google.com/assets/colab-badge.svg\" alt=\"Open In Colab\"/></a>"
      ]
    },
    {
      "cell_type": "code",
      "execution_count": null,
      "metadata": {
        "colab": {
          "base_uri": "https://localhost:8080/"
        },
        "id": "6KMlzAgPECWE",
        "outputId": "c16c4bfb-0f6b-4d55-87a5-c46d110303ce"
      },
      "outputs": [
        {
          "output_type": "stream",
          "name": "stdout",
          "text": [
            "Enter first number: 1\n",
            "Enter operation symbol: +\n",
            "Enter second number: 2\n",
            "Result: 3\n",
            "Do you want to continue? (y/n) y\n",
            "Enter first number: 1\n",
            "Enter operation symbol: -\n",
            "Enter second number: 0\n",
            "Result: 1\n",
            "Do you want to continue? (y/n) y\n",
            "Enter first number: 1\n",
            "Enter operation symbol: +\n",
            "Enter second number: 2\n",
            "Result: 3\n"
          ]
        }
      ],
      "source": [
        "# prompt: Create a new file called \"calculator_2.0.py\" Create a class called \"Calculator\" that contains the following: A dictionary attribute to store the available mathematical operations and their corresponding functions A method called \"init\" that initializes the dictionary with the basic mathematical operations (+, -, *, /) and corresponding functions A method called \"add_operation\" that takes in two arguments: the operation symbol and the corresponding function. This method should add the new operation and function to the dictionary. A method called \"calculate\" that takes in three arguments: the first number, the operation symbol, and the second number. This method should use the dictionary to determine the appropriate function to perform the calculation. It should also include error handling to check if the operation symbol is valid and if the input values are numbers. If an error is encountered, the method should print an error message and raise an exception. Create separate functions for the advanced mathematical operations (exponentiation, square root, logarithm) and use the \"add_operation\" method to add them to the calculator's dictionary. In the main program, create an instance of the Calculator class, and use a while loop that allows the user to continue performing calculations until they choose to exit. Use the input() function to get input from the user for the numbers and operation symbol.Use the math library for advanced mathematical operations Use the isinstance() function to check if the input is a number.\n",
        "\n",
        "import math\n",
        "\n",
        "class Calculator:\n",
        "    def __init__(self):\n",
        "        self.operations = {\n",
        "            \"+\": self.add,\n",
        "            \"-\": self.subtract,\n",
        "            \"*\": self.multiply,\n",
        "            \"/\": self.divide\n",
        "        }\n",
        "\n",
        "    def add_operation(self, symbol, function):\n",
        "        self.operations[symbol] = function\n",
        "\n",
        "    def calculate(self, num1, symbol, num2):\n",
        "        if symbol not in self.operations:\n",
        "            raise ValueError(\"Invalid operation symbol\")\n",
        "\n",
        "        if not isinstance(num1, int) or not isinstance(num2, int):\n",
        "            raise ValueError(\"Inputs must be numbers\")\n",
        "\n",
        "        return self.operations[symbol](num1, num2)\n",
        "\n",
        "    def add(self, num1, num2):\n",
        "        return num1 + num2\n",
        "\n",
        "    def subtract(self, num1, num2):\n",
        "        return num1 - num2\n",
        "\n",
        "    def multiply(self, num1, num2):\n",
        "        return num1 * num2\n",
        "\n",
        "    def divide(self, num1, num2):\n",
        "        return num1 / num2\n",
        "\n",
        "    def exponent(self, num1, num2):\n",
        "        return math.pow(num1, num2)\n",
        "\n",
        "    def sqrt(self, num1):\n",
        "        return math.sqrt(num1)\n",
        "\n",
        "    def log(self, num1):\n",
        "        return math.log(num1)\n",
        "\n",
        "\n",
        "if __name__ == \"__main__\":\n",
        "    calculator = Calculator()\n",
        "    calculator.add_operation(\"^\", calculator.exponent)\n",
        "    calculator.add_operation(\"sqrt\", calculator.sqrt)\n",
        "    calculator.add_operation(\"log\", calculator.log)\n",
        "\n",
        "    while True:\n",
        "        num1 = input(\"Enter first number: \")\n",
        "        symbol = input(\"Enter operation symbol: \")\n",
        "        num2 = input(\"Enter second number: \")\n",
        "\n",
        "        try:\n",
        "            result = calculator.calculate(int(num1), symbol, int(num2))\n",
        "            print(\"Result:\", result)\n",
        "        except ValueError as e:\n",
        "            print(e)\n",
        "\n",
        "        if input(\"Do you want to continue? (y/n) \") == \"n\":\n",
        "            break\n"
      ]
    }
  ]
}