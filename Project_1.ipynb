{
  "nbformat": 4,
  "nbformat_minor": 0,
  "metadata": {
    "colab": {
      "provenance": [],
      "authorship_tag": "ABX9TyPipx1iNip6dMK9vZsEInqV",
      "include_colab_link": true
    },
    "kernelspec": {
      "name": "python3",
      "display_name": "Python 3"
    },
    "language_info": {
      "name": "python"
    }
  },
  "cells": [
    {
      "cell_type": "markdown",
      "metadata": {
        "id": "view-in-github",
        "colab_type": "text"
      },
      "source": [
        "<a href=\"https://colab.research.google.com/github/Ekene-Ebenezer/Gomycode-Data-Science/blob/main/Project_1.ipynb\" target=\"_parent\"><img src=\"https://colab.research.google.com/assets/colab-badge.svg\" alt=\"Open In Colab\"/></a>"
      ]
    },
    {
      "cell_type": "code",
      "execution_count": 8,
      "metadata": {
        "id": "62gQzWEGTfZi",
        "colab": {
          "base_uri": "https://localhost:8080/"
        },
        "outputId": "7fb77855-8d49-4bb0-8045-0a35f2ae717c"
      },
      "outputs": [
        {
          "output_type": "stream",
          "name": "stdout",
          "text": [
            "what size of pizza would you like S,M,L => S\n",
            "Would you like pepperoni, yes,no => no\n",
            "Would you like cheese, yes,no => yes\n",
            "your total is $ 16\n"
          ]
        }
      ],
      "source": [
        "size = input(\"what size of pizza would you like S,M,L => \")\n",
        "pepperoni = input (\"Would you like pepperoni, yes,no => \")\n",
        "cheese = input (\"Would you like cheese, yes,no => \")\n",
        "\n",
        "bill = 0\n",
        "if size == \"S\":\n",
        "  bill += 15\n",
        "if size == \"M\":\n",
        "  bill += 20\n",
        "if size== \"L\":\n",
        "  bill += 25\n",
        "\n",
        "if pepperoni == \"yes\" and size == \"S\":\n",
        "  bill += 2\n",
        "\n",
        "if pepperoni == \"yes\" and size =='M' or size == 'L':\n",
        "  bill += 3\n",
        "\n",
        "if cheese == \"yes\":\n",
        "  bill += 1\n",
        "\n",
        "  print (\"your total is $\",bill)"
      ]
    }
  ]
}